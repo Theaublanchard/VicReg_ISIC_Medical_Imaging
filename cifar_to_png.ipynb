{
 "cells": [
  {
   "cell_type": "code",
   "execution_count": 3,
   "metadata": {},
   "outputs": [],
   "source": [
    "import torch\n",
    "import torchvision.datasets\n",
    "import os\n",
    "import matplotlib.pyplot as plt\n",
    "import numpy as np\n",
    "import pandas as pd"
   ]
  },
  {
   "cell_type": "code",
   "execution_count": 4,
   "metadata": {},
   "outputs": [
    {
     "name": "stdout",
     "output_type": "stream",
     "text": [
      "Files already downloaded and verified\n",
      "Files already downloaded and verified\n"
     ]
    }
   ],
   "source": [
    "d = torchvision.datasets.CIFAR10(root='~/data', train=True, download=True)\n",
    "p = torchvision.datasets.CIFAR10(root='~/data', train=False, download=True)"
   ]
  },
  {
   "cell_type": "code",
   "execution_count": 5,
   "metadata": {},
   "outputs": [
    {
     "data": {
      "text/plain": [
       "array([0.24703223, 0.24348513, 0.26158784])"
      ]
     },
     "execution_count": 5,
     "metadata": {},
     "output_type": "execute_result"
    }
   ],
   "source": [
    "d.data.mean(axis=(0,1,2))/255\n",
    "d.data.std(axis=(0,1,2))/255"
   ]
  },
  {
   "cell_type": "code",
   "execution_count": 6,
   "metadata": {},
   "outputs": [
    {
     "data": {
      "text/plain": [
       "Dataset CIFAR10\n",
       "    Number of datapoints: 10000\n",
       "    Root location: C:\\Users\\Théau Blanchard/data\n",
       "    Split: Test"
      ]
     },
     "execution_count": 6,
     "metadata": {},
     "output_type": "execute_result"
    }
   ],
   "source": [
    "p\n"
   ]
  },
  {
   "cell_type": "code",
   "execution_count": 7,
   "metadata": {},
   "outputs": [],
   "source": [
    "def unpickle(file):\n",
    "    import pickle\n",
    "    with open(file, 'rb') as fo:\n",
    "        dict = pickle.load(fo, encoding='bytes')\n",
    "    return dict"
   ]
  },
  {
   "cell_type": "code",
   "execution_count": 8,
   "metadata": {},
   "outputs": [
    {
     "data": {
      "text/html": [
       "<div>\n",
       "<style scoped>\n",
       "    .dataframe tbody tr th:only-of-type {\n",
       "        vertical-align: middle;\n",
       "    }\n",
       "\n",
       "    .dataframe tbody tr th {\n",
       "        vertical-align: top;\n",
       "    }\n",
       "\n",
       "    .dataframe thead th {\n",
       "        text-align: right;\n",
       "    }\n",
       "</style>\n",
       "<table border=\"1\" class=\"dataframe\">\n",
       "  <thead>\n",
       "    <tr style=\"text-align: right;\">\n",
       "      <th></th>\n",
       "      <th>name</th>\n",
       "      <th>label</th>\n",
       "    </tr>\n",
       "  </thead>\n",
       "  <tbody>\n",
       "  </tbody>\n",
       "</table>\n",
       "</div>"
      ],
      "text/plain": [
       "Empty DataFrame\n",
       "Columns: [name, label]\n",
       "Index: []"
      ]
     },
     "execution_count": 8,
     "metadata": {},
     "output_type": "execute_result"
    }
   ],
   "source": [
    "df_name = pd.DataFrame(columns=['name', 'label'])\n",
    "df_name"
   ]
  },
  {
   "cell_type": "code",
   "execution_count": 9,
   "metadata": {},
   "outputs": [
    {
     "name": "stdout",
     "output_type": "stream",
     "text": [
      "10000\n",
      "10000\n",
      "10000\n",
      "10000\n",
      "10000\n"
     ]
    }
   ],
   "source": [
    "# for i in range(1,6):\n",
    "#     d = unpickle(f\"C:/Users/Théau Blanchard/data/cifar-10-batches-py/data_batch_{i}\")\n",
    "#     print(len(d[b'labels']))\n",
    "#     for j in range(len(d[b'labels'])):\n",
    "\n",
    "#         # df_name = df_name.append({'name': d[b'filenames'][j], 'label': d[b'labels'][j]}, ignore_index=True)\n",
    "#         df_name =pd.concat([df_name, pd.DataFrame({'name': d[b'filenames'][j], 'label': d[b'labels'][j]}, index=[0])], ignore_index=True)\n",
    "\n",
    "# d = unpickle(\"C:/Users/Théau Blanchard/data/cifar-10-batches-py/test_batch\")\n",
    "# df_name_test = pd.DataFrame(columns=['name', 'label'])\n",
    "# for j in range(len(d[b'labels'])):\n",
    "#     df_name_test =pd.concat([df_name_test, pd.DataFrame({'name': d[b'filenames'][j], 'label': d[b'labels'][j]}, index=[0])], ignore_index=True)\n",
    "\n",
    "\n",
    "# df_train_100 = df_name.copy()\n",
    "# df_train_10 = df_name.sample(frac=0.1, random_state=0)\n",
    "# df_train_1 = df_name.sample(frac=0.01, random_state=0)\n",
    "\n",
    "# df_train_100.to_csv(\"./Cifar10_train_split_100\", index=False)\n",
    "# df_train_10.to_csv(\"./Cifar10_train_split_10\", index=False)\n",
    "# df_train_1.to_csv(\"./Cifar10_train_split_1\", index=False)\n",
    "# df_name_test.to_csv(\"./Cifar10_test\", index=False)"
   ]
  },
  {
   "cell_type": "code",
   "execution_count": 10,
   "metadata": {},
   "outputs": [],
   "source": [
    "df_train_100 = pd.read_csv(\"./Cifar10_train_split_100\")\n",
    "df_train_10 = pd.read_csv(\"./Cifar10_train_split_10\")\n",
    "df_train_1 = pd.read_csv(\"./Cifar10_train_split_1\")\n",
    "df_name_test = pd.read_csv(\"./Cifar10_test\")"
   ]
  },
  {
   "cell_type": "code",
   "execution_count": 47,
   "metadata": {},
   "outputs": [],
   "source": [
    "export_path = \"./data/cifar10_v2\"\n",
    "classes_name = ['airplane', 'automobile', 'bird', 'cat', 'deer', 'dog', 'frog', 'horse', 'ship', 'truck']\n",
    "\n",
    "#Create the folder of classes_name in export_path\n",
    "for i in range(len(classes_name)):\n",
    "    os.makedirs(export_path + \"/train_100/\" + classes_name[i], exist_ok=True)\n",
    "    os.makedirs(export_path + \"/test/\" + classes_name[i], exist_ok=True)\n",
    "    os.makedirs(export_path + \"/train_10/\" + classes_name[i], exist_ok=True)\n",
    "    os.makedirs(export_path + \"/train_1/\" + classes_name[i], exist_ok=True)\n",
    "    "
   ]
  },
  {
   "cell_type": "code",
   "execution_count": 61,
   "metadata": {},
   "outputs": [],
   "source": [
    "def cifarTo_png(export_path,batch_files_path, df, classes_name,test=False,percent=100):\n",
    "    if test:\n",
    "        print(\"Starting\")\n",
    "        d = unpickle(batch_files_path+\"/test_batch\")\n",
    "        for j in range(len(d[b'labels'])):\n",
    "            img = d[b'data'][j].reshape(3,32,32).transpose(1,2,0)\n",
    "            name = df['name'][j].strip(\"b'\")\n",
    "            plt.imsave(f\"{export_path}/test/{classes_name[d[b'labels'][j]]}/{name}\", img)\n",
    "        print(\"Done\")\n",
    "\n",
    "    else:\n",
    "        print(\"Starting\")\n",
    "        for i in range(1,6):\n",
    "            d = unpickle(batch_files_path + f\"/data_batch_{i}\")\n",
    "            for name in df['name']:\n",
    "                for j in range(len(d[b'labels'])):\n",
    "                    name_d = d[b'filenames'][j].decode(\"utf-8\")\n",
    "                    if name == name_d:\n",
    "                        img = d[b'data'][j].reshape(3,32,32).transpose(1,2,0)\n",
    "                        plt.imsave(f\"{export_path}/train_{percent}/{classes_name[d[b'labels'][j]]}/{name_d}\", img)\n",
    "                        break\n",
    "        print(\"Done\")\n"
   ]
  },
  {
   "cell_type": "code",
   "execution_count": 62,
   "metadata": {},
   "outputs": [
    {
     "name": "stdout",
     "output_type": "stream",
     "text": [
      "Starting\n",
      "Done\n",
      "Starting\n",
      "Done\n",
      "Starting\n",
      "Done\n",
      "Starting\n",
      "Done\n"
     ]
    }
   ],
   "source": [
    "export_path = \"./data/cifar10_v2\"\n",
    "classes_name = ['airplane', 'automobile', 'bird', 'cat', 'deer', 'dog', 'frog', 'horse', 'ship', 'truck']\n",
    "cifarTo_png(export_path,\"C:/Users/Théau Blanchard/data/cifar-10-batches-py\", df_name_test, classes_name,test=True)\n",
    "cifarTo_png(export_path,\"C:/Users/Théau Blanchard/data/cifar-10-batches-py\", df_train_100, classes_name,percent=100)\n",
    "cifarTo_png(export_path,\"C:/Users/Théau Blanchard/data/cifar-10-batches-py\", df_train_10, classes_name,percent=10)\n",
    "cifarTo_png(export_path,\"C:/Users/Théau Blanchard/data/cifar-10-batches-py\", df_train_1, classes_name,percent=1)\n"
   ]
  }
 ],
 "metadata": {
  "kernelspec": {
   "display_name": "Python 3",
   "language": "python",
   "name": "python3"
  },
  "language_info": {
   "codemirror_mode": {
    "name": "ipython",
    "version": 3
   },
   "file_extension": ".py",
   "mimetype": "text/x-python",
   "name": "python",
   "nbconvert_exporter": "python",
   "pygments_lexer": "ipython3",
   "version": "3.10.6"
  },
  "orig_nbformat": 4,
  "vscode": {
   "interpreter": {
    "hash": "4c179c89db429766a083a4a38a3a1be56067680fe16a84421ce53f1a87e0611e"
   }
  }
 },
 "nbformat": 4,
 "nbformat_minor": 2
}
