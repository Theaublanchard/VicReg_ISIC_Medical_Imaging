{
 "cells": [
  {
   "cell_type": "code",
   "execution_count": 1,
   "metadata": {},
   "outputs": [],
   "source": [
    "import numpy as np\n",
    "import os\n",
    "import matplotlib.pyplot as plt\n",
    "import pandas as pd\n",
    "import seaborn as sns\n",
    "sns.set()"
   ]
  },
  {
   "cell_type": "code",
   "execution_count": 2,
   "metadata": {},
   "outputs": [
    {
     "data": {
      "text/html": [
       "<div>\n",
       "<style scoped>\n",
       "    .dataframe tbody tr th:only-of-type {\n",
       "        vertical-align: middle;\n",
       "    }\n",
       "\n",
       "    .dataframe tbody tr th {\n",
       "        vertical-align: top;\n",
       "    }\n",
       "\n",
       "    .dataframe thead th {\n",
       "        text-align: right;\n",
       "    }\n",
       "</style>\n",
       "<table border=\"1\" class=\"dataframe\">\n",
       "  <thead>\n",
       "    <tr style=\"text-align: right;\">\n",
       "      <th></th>\n",
       "      <th>MEL</th>\n",
       "      <th>NV</th>\n",
       "      <th>BCC</th>\n",
       "      <th>AK</th>\n",
       "      <th>BKL</th>\n",
       "      <th>DF</th>\n",
       "      <th>VASC</th>\n",
       "      <th>SCC</th>\n",
       "      <th>UNK</th>\n",
       "    </tr>\n",
       "  </thead>\n",
       "  <tbody>\n",
       "    <tr>\n",
       "      <th>count</th>\n",
       "      <td>25331.000000</td>\n",
       "      <td>25331.000000</td>\n",
       "      <td>25331.000000</td>\n",
       "      <td>25331.000000</td>\n",
       "      <td>25331.000000</td>\n",
       "      <td>25331.000000</td>\n",
       "      <td>25331.000000</td>\n",
       "      <td>25331.000000</td>\n",
       "      <td>25331.0</td>\n",
       "    </tr>\n",
       "    <tr>\n",
       "      <th>mean</th>\n",
       "      <td>0.178516</td>\n",
       "      <td>0.508270</td>\n",
       "      <td>0.131183</td>\n",
       "      <td>0.034227</td>\n",
       "      <td>0.103588</td>\n",
       "      <td>0.009435</td>\n",
       "      <td>0.009988</td>\n",
       "      <td>0.024792</td>\n",
       "      <td>0.0</td>\n",
       "    </tr>\n",
       "    <tr>\n",
       "      <th>std</th>\n",
       "      <td>0.382954</td>\n",
       "      <td>0.499941</td>\n",
       "      <td>0.337607</td>\n",
       "      <td>0.181815</td>\n",
       "      <td>0.304732</td>\n",
       "      <td>0.096677</td>\n",
       "      <td>0.099440</td>\n",
       "      <td>0.155493</td>\n",
       "      <td>0.0</td>\n",
       "    </tr>\n",
       "    <tr>\n",
       "      <th>min</th>\n",
       "      <td>0.000000</td>\n",
       "      <td>0.000000</td>\n",
       "      <td>0.000000</td>\n",
       "      <td>0.000000</td>\n",
       "      <td>0.000000</td>\n",
       "      <td>0.000000</td>\n",
       "      <td>0.000000</td>\n",
       "      <td>0.000000</td>\n",
       "      <td>0.0</td>\n",
       "    </tr>\n",
       "    <tr>\n",
       "      <th>25%</th>\n",
       "      <td>0.000000</td>\n",
       "      <td>0.000000</td>\n",
       "      <td>0.000000</td>\n",
       "      <td>0.000000</td>\n",
       "      <td>0.000000</td>\n",
       "      <td>0.000000</td>\n",
       "      <td>0.000000</td>\n",
       "      <td>0.000000</td>\n",
       "      <td>0.0</td>\n",
       "    </tr>\n",
       "    <tr>\n",
       "      <th>50%</th>\n",
       "      <td>0.000000</td>\n",
       "      <td>1.000000</td>\n",
       "      <td>0.000000</td>\n",
       "      <td>0.000000</td>\n",
       "      <td>0.000000</td>\n",
       "      <td>0.000000</td>\n",
       "      <td>0.000000</td>\n",
       "      <td>0.000000</td>\n",
       "      <td>0.0</td>\n",
       "    </tr>\n",
       "    <tr>\n",
       "      <th>75%</th>\n",
       "      <td>0.000000</td>\n",
       "      <td>1.000000</td>\n",
       "      <td>0.000000</td>\n",
       "      <td>0.000000</td>\n",
       "      <td>0.000000</td>\n",
       "      <td>0.000000</td>\n",
       "      <td>0.000000</td>\n",
       "      <td>0.000000</td>\n",
       "      <td>0.0</td>\n",
       "    </tr>\n",
       "    <tr>\n",
       "      <th>max</th>\n",
       "      <td>1.000000</td>\n",
       "      <td>1.000000</td>\n",
       "      <td>1.000000</td>\n",
       "      <td>1.000000</td>\n",
       "      <td>1.000000</td>\n",
       "      <td>1.000000</td>\n",
       "      <td>1.000000</td>\n",
       "      <td>1.000000</td>\n",
       "      <td>0.0</td>\n",
       "    </tr>\n",
       "  </tbody>\n",
       "</table>\n",
       "</div>"
      ],
      "text/plain": [
       "                MEL            NV           BCC            AK           BKL  \\\n",
       "count  25331.000000  25331.000000  25331.000000  25331.000000  25331.000000   \n",
       "mean       0.178516      0.508270      0.131183      0.034227      0.103588   \n",
       "std        0.382954      0.499941      0.337607      0.181815      0.304732   \n",
       "min        0.000000      0.000000      0.000000      0.000000      0.000000   \n",
       "25%        0.000000      0.000000      0.000000      0.000000      0.000000   \n",
       "50%        0.000000      1.000000      0.000000      0.000000      0.000000   \n",
       "75%        0.000000      1.000000      0.000000      0.000000      0.000000   \n",
       "max        1.000000      1.000000      1.000000      1.000000      1.000000   \n",
       "\n",
       "                 DF          VASC           SCC      UNK  \n",
       "count  25331.000000  25331.000000  25331.000000  25331.0  \n",
       "mean       0.009435      0.009988      0.024792      0.0  \n",
       "std        0.096677      0.099440      0.155493      0.0  \n",
       "min        0.000000      0.000000      0.000000      0.0  \n",
       "25%        0.000000      0.000000      0.000000      0.0  \n",
       "50%        0.000000      0.000000      0.000000      0.0  \n",
       "75%        0.000000      0.000000      0.000000      0.0  \n",
       "max        1.000000      1.000000      1.000000      0.0  "
      ]
     },
     "execution_count": 2,
     "metadata": {},
     "output_type": "execute_result"
    }
   ],
   "source": [
    "df = pd.read_csv(\"ISIC_2019_Training_GroundTruth.csv\")\n",
    "df.describe()"
   ]
  },
  {
   "cell_type": "code",
   "execution_count": 3,
   "metadata": {},
   "outputs": [],
   "source": [
    "s = \"melanoma, melanocytic_nevus, basal_cell_carcinoma, actinic_keratosis, benign_keratosis, dermatofibroma, vascular_lesion, squamous_cell_carcinoma, other\""
   ]
  },
  {
   "cell_type": "code",
   "execution_count": 4,
   "metadata": {},
   "outputs": [
    {
     "name": "stdout",
     "output_type": "stream",
     "text": [
      "{'melanoma': 0, 'melanocytic_nevus': 1, 'basal_cell_carcinoma': 2, 'actinic_keratosis': 3, 'benign_keratosis': 4, 'dermatofibroma': 5, 'vascular_lesion': 6, 'squamous_cell_carcinoma': 7, 'other': 8}\n",
      "{0: 'melanoma', 1: 'melanocytic_nevus', 2: 'basal_cell_carcinoma', 3: 'actinic_keratosis', 4: 'benign_keratosis', 5: 'dermatofibroma', 6: 'vascular_lesion', 7: 'squamous_cell_carcinoma', 8: 'other'}\n",
      "[0 1 2 3 4 5 6 7 8]\n",
      "['melanoma' 'melanocytic_nevus' 'basal_cell_carcinoma' 'actinic_keratosis'\n",
      " 'benign_keratosis' 'dermatofibroma' 'vascular_lesion'\n",
      " 'squamous_cell_carcinoma' 'other']\n"
     ]
    }
   ],
   "source": [
    "classes_to_idx = {c: i for i, c in enumerate(s.split(\", \"))}\n",
    "idx_to_classes = {i: c for i, c in enumerate(s.split(\", \"))}\n",
    "print(classes_to_idx)\n",
    "print(idx_to_classes)\n",
    "# Same but as np.array\n",
    "classes_to_idx_np = np.array(list(classes_to_idx.values()))\n",
    "idx_to_classes_np = np.array(list(idx_to_classes.values()))\n",
    "print(classes_to_idx_np)\n",
    "print(idx_to_classes_np)"
   ]
  },
  {
   "cell_type": "code",
   "execution_count": 5,
   "metadata": {},
   "outputs": [
    {
     "data": {
      "text/html": [
       "<div>\n",
       "<style scoped>\n",
       "    .dataframe tbody tr th:only-of-type {\n",
       "        vertical-align: middle;\n",
       "    }\n",
       "\n",
       "    .dataframe tbody tr th {\n",
       "        vertical-align: top;\n",
       "    }\n",
       "\n",
       "    .dataframe thead th {\n",
       "        text-align: right;\n",
       "    }\n",
       "</style>\n",
       "<table border=\"1\" class=\"dataframe\">\n",
       "  <thead>\n",
       "    <tr style=\"text-align: right;\">\n",
       "      <th></th>\n",
       "      <th>image</th>\n",
       "      <th>class</th>\n",
       "      <th>class_idx</th>\n",
       "    </tr>\n",
       "  </thead>\n",
       "  <tbody>\n",
       "    <tr>\n",
       "      <th>0</th>\n",
       "      <td>ISIC_0000000</td>\n",
       "      <td>melanocytic_nevus</td>\n",
       "      <td>1</td>\n",
       "    </tr>\n",
       "    <tr>\n",
       "      <th>1</th>\n",
       "      <td>ISIC_0000001</td>\n",
       "      <td>melanocytic_nevus</td>\n",
       "      <td>1</td>\n",
       "    </tr>\n",
       "    <tr>\n",
       "      <th>2</th>\n",
       "      <td>ISIC_0000002</td>\n",
       "      <td>melanoma</td>\n",
       "      <td>0</td>\n",
       "    </tr>\n",
       "    <tr>\n",
       "      <th>3</th>\n",
       "      <td>ISIC_0000003</td>\n",
       "      <td>melanocytic_nevus</td>\n",
       "      <td>1</td>\n",
       "    </tr>\n",
       "    <tr>\n",
       "      <th>4</th>\n",
       "      <td>ISIC_0000004</td>\n",
       "      <td>melanoma</td>\n",
       "      <td>0</td>\n",
       "    </tr>\n",
       "  </tbody>\n",
       "</table>\n",
       "</div>"
      ],
      "text/plain": [
       "          image              class  class_idx\n",
       "0  ISIC_0000000  melanocytic_nevus          1\n",
       "1  ISIC_0000001  melanocytic_nevus          1\n",
       "2  ISIC_0000002           melanoma          0\n",
       "3  ISIC_0000003  melanocytic_nevus          1\n",
       "4  ISIC_0000004           melanoma          0"
      ]
     },
     "execution_count": 5,
     "metadata": {},
     "output_type": "execute_result"
    }
   ],
   "source": [
    "idx_df = df[df.columns[df.columns!=\"image\"]].to_numpy().argmax(axis=1)\n",
    "classes_df = idx_to_classes_np[idx_df]\n",
    "df_res = pd.DataFrame({\"image\": df[\"image\"], \"class\": classes_df,\"class_idx\":idx_df})\n",
    "\n",
    "#Remove the _downsampled from the image name\n",
    "df_res[\"image\"] = df_res[\"image\"].apply(lambda x: x.replace(\"_downsampled\", \"\"))\n",
    "df_res.head()"
   ]
  },
  {
   "cell_type": "code",
   "execution_count": 10,
   "metadata": {},
   "outputs": [
    {
     "data": {
      "image/png": "[encoded data removed]",
      "text/plain": [
       "<Figure size 1500x500 with 2 Axes>"
      ]
     },
     "metadata": {},
     "output_type": "display_data"
    }
   ],
   "source": [
    "#Split train/test\n",
    "if False : #Do not run this cell\n",
    "    from sklearn.model_selection import train_test_split\n",
    "    train, test = train_test_split(df_res, test_size=0.2,random_state=1312,stratify=df_res[\"class_idx\"])\n",
    "    _, train_1 = train_test_split(train, test_size=0.01,random_state=1312,stratify=train[\"class_idx\"])\n",
    "    _, train_10 = train_test_split(train, test_size=0.1,random_state=1312,stratify=train[\"class_idx\"])\n",
    "    train.to_csv(\"ISIC_2019_train_split_100.csv\", index=False)\n",
    "    train_1.to_csv(\"ISIC_2019_train_split_1.csv\", index=False)\n",
    "    train_10.to_csv(\"ISIC_2019_train_split_10.csv\", index=False)\n",
    "    test.to_csv(\"ISIC_2019_test_split.csv\", index=False)\n",
    "\n",
    "    fig, ax = plt.subplots(1,2, figsize=(15,5))\n",
    "    train.hist(column=\"class_idx\", bins=9,ax=ax[0])\n",
    "    test.hist(column=\"class_idx\", bins=9,ax=ax[1])"
   ]
  },
  {
   "cell_type": "code",
   "execution_count": 11,
   "metadata": {},
   "outputs": [
    {
     "data": {
      "text/plain": [
       "array([<AxesSubplot:title={'center':'class_idx'}>], dtype=object)"
      ]
     },
     "execution_count": 11,
     "metadata": {},
     "output_type": "execute_result"
    },
    {
     "data": {
      "image/png": "[encoded data removed]",
      "text/plain": [
       "<Figure size 1500x500 with 2 Axes>"
      ]
     },
     "metadata": {},
     "output_type": "display_data"
    }
   ],
   "source": [
    "train_100 = pd.read_csv(\"ISIC_2019_train_split_100.csv\")\n",
    "train_1 = pd.read_csv(\"ISIC_2019_train_split_1.csv\")\n",
    "train_10 = pd.read_csv(\"ISIC_2019_train_split_10.csv\")\n",
    "test = pd.read_csv(\"ISIC_2019_test_split.csv\")\n",
    "\n",
    "fig, ax = plt.subplots(1,2, figsize=(15,5))\n",
    "train_100.hist(column=\"class_idx\", bins=9,ax=ax[0])\n",
    "test.hist(column=\"class_idx\", bins=9,ax=ax[1])"
   ]
  },
  {
   "cell_type": "code",
   "execution_count": 12,
   "metadata": {},
   "outputs": [],
   "source": [
    "import zipfile\n",
    "from tqdm import tqdm\n",
    "def export_zip(zip_path, export_path,df):\n",
    "    # for c in classes_to_idx:\n",
    "    #     os.makedirs(os.path.join(export_path, c), exist_ok=True)\n",
    "\n",
    "    with zipfile.ZipFile(zip_path, 'r') as zip_ref:\n",
    "        name_file = zip_ref.namelist()[2:-1]\n",
    "        clean_name_file = [n.split(\"/\")[-1].split(\".\")[0].replace(\"_downsampled\", \"\") for n in name_file]\n",
    "\n",
    "\n",
    "        for i,clean_name in tqdm(enumerate(df[\"image\"]), total=len(df)):\n",
    "            export_file_path = os.path.join(export_path, df[\"class\"][i])\n",
    "            zip_ref.extract(name_file[i], export_file_path)"
   ]
  },
  {
   "cell_type": "code",
   "execution_count": 13,
   "metadata": {},
   "outputs": [
    {
     "name": "stdout",
     "output_type": "stream",
     "text": [
      "Starting to extract\n"
     ]
    },
    {
     "name": "stderr",
     "output_type": "stream",
     "text": [
      "100%|██████████| 20264/20264 [00:45<00:00, 440.79it/s]\n"
     ]
    },
    {
     "name": "stdout",
     "output_type": "stream",
     "text": [
      "Starting to extract\n"
     ]
    },
    {
     "name": "stderr",
     "output_type": "stream",
     "text": [
      "100%|██████████| 203/203 [00:00<00:00, 825.15it/s]\n"
     ]
    },
    {
     "name": "stdout",
     "output_type": "stream",
     "text": [
      "Starting to extract\n"
     ]
    },
    {
     "name": "stderr",
     "output_type": "stream",
     "text": [
      "100%|██████████| 2027/2027 [00:02<00:00, 794.01it/s]\n"
     ]
    },
    {
     "name": "stdout",
     "output_type": "stream",
     "text": [
      "Starting to extract\n"
     ]
    },
    {
     "name": "stderr",
     "output_type": "stream",
     "text": [
      "100%|██████████| 5067/5067 [00:07<00:00, 662.22it/s]\n"
     ]
    }
   ],
   "source": [
    "export_path=\"./data/ISIC\"\n",
    "zip_path = \"./ISIC_2019_Training_Input.zip\"\n",
    "export_zip(zip_path, export_path+str(\"/train_100\"),train_100)\n",
    "export_zip(zip_path, export_path+str(\"/train_1\"),train_1)\n",
    "export_zip(zip_path, export_path+str(\"/train_10\"),train_10)\n",
    "export_zip(zip_path, export_path+str(\"/test\"),test)\n"
   ]
  }
 ],
 "metadata": {
  "kernelspec": {
   "display_name": "Python 3",
   "language": "python",
   "name": "python3"
  },
  "language_info": {
   "codemirror_mode": {
    "name": "ipython",
    "version": 3
   },
   "file_extension": ".py",
   "mimetype": "text/x-python",
   "name": "python",
   "nbconvert_exporter": "python",
   "pygments_lexer": "ipython3",
   "version": "3.10.6 (tags/v3.10.6:9c7b4bd, Aug  1 2022, 21:53:49) [MSC v.1932 64 bit (AMD64)]"
  },
  "orig_nbformat": 4,
  "vscode": {
   "interpreter": {
    "hash": "4c179c89db429766a083a4a38a3a1be56067680fe16a84421ce53f1a87e0611e"
   }
  }
 },
 "nbformat": 4,
 "nbformat_minor": 2
}
